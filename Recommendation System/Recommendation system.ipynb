{
 "cells": [
  {
   "cell_type": "code",
   "execution_count": null,
   "id": "1ad4f9f4-f048-405d-ba76-fe1e51d6f25a",
   "metadata": {},
   "outputs": [],
   "source": [
    "import pandas as pd\n",
    "import numpy as np\n",
    "import matplotlib.pyplot as plt\n",
    "%matplotlib inline\n",
    "import seaborn as sns"
   ]
  },
  {
   "cell_type": "code",
   "execution_count": null,
   "id": "a48bdcb0-a92d-48e4-a4d8-d68df741db48",
   "metadata": {},
   "outputs": [],
   "source": [
    "# Import the dataset\n",
    "df = pd.read_csv('anime.csv',index_col=0)\n",
    "df.sort_index(inplace=True)\n",
    "df"
   ]
  },
  {
   "cell_type": "code",
   "execution_count": null,
   "id": "436dfde3-cb0f-4e5a-af55-b9ad9052ba67",
   "metadata": {},
   "outputs": [],
   "source": [
    "#Check datatypes\n",
    "df.dtypes"
   ]
  },
  {
   "cell_type": "code",
   "execution_count": null,
   "id": "15d3c77b-7043-43de-a5d6-f83600f5602a",
   "metadata": {},
   "outputs": [],
   "source": [
    "df['episodes'].unique()"
   ]
  },
  {
   "cell_type": "code",
   "execution_count": null,
   "id": "4ed39e56-8560-48c4-8528-f6377b7e9b2d",
   "metadata": {},
   "outputs": [],
   "source": [
    "df[df['episodes']=='Unknown']"
   ]
  },
  {
   "cell_type": "code",
   "execution_count": null,
   "id": "82282311-62f5-44be-aee5-7bc32304e1ce",
   "metadata": {},
   "outputs": [],
   "source": [
    "f'{100*340/12294} % of Unknown episodes'"
   ]
  },
  {
   "cell_type": "markdown",
   "id": "c43b8be9-6287-4e7b-9d67-ee6b586fe791",
   "metadata": {},
   "source": [
    "Since the % of Unknown episodes are less than 5%, we can drop these rows for our analysis"
   ]
  },
  {
   "cell_type": "code",
   "execution_count": null,
   "id": "109d297b-bf27-43b3-8e7e-8f6a36692e6e",
   "metadata": {},
   "outputs": [],
   "source": [
    "drop_indices = df[df['episodes']=='Unknown'].index\n",
    "\n",
    "df.drop(drop_indices, axis=0, inplace=True)"
   ]
  },
  {
   "cell_type": "code",
   "execution_count": null,
   "id": "4fa46e5c-1edd-4c34-ba6d-ef08c526db5b",
   "metadata": {},
   "outputs": [],
   "source": [
    "#Change the data type of episodes column to int\n",
    "\n",
    "df['episodes'] = df['episodes'].astype(int)\n",
    "df.dtypes"
   ]
  },
  {
   "cell_type": "code",
   "execution_count": null,
   "id": "7acbb403-44d1-4d9f-88c6-895529b468ba",
   "metadata": {},
   "outputs": [],
   "source": [
    "# CHeck missing values\n",
    "df.isna().sum()"
   ]
  },
  {
   "cell_type": "code",
   "execution_count": null,
   "id": "e422168f-5201-424b-a425-24769df34bbc",
   "metadata": {},
   "outputs": [],
   "source": [
    "df.dropna(inplace=True)\n",
    "df.isna().sum()"
   ]
  },
  {
   "cell_type": "code",
   "execution_count": null,
   "id": "03c55a26-32b8-4f00-bfa9-bbe5230602ef",
   "metadata": {},
   "outputs": [],
   "source": [
    "# Check duplicate values\n",
    "df.duplicated().sum()"
   ]
  },
  {
   "cell_type": "code",
   "execution_count": null,
   "id": "e0a74df5-9929-4797-811e-86b98c3f178d",
   "metadata": {},
   "outputs": [],
   "source": [
    "df.head()"
   ]
  },
  {
   "cell_type": "code",
   "execution_count": null,
   "id": "952598e4-e4d4-4b40-96bb-28e86e13e378",
   "metadata": {
    "scrolled": true
   },
   "outputs": [],
   "source": [
    "# Convert all the genre values into a list and encode the values to the data frame\n",
    "\n",
    "df['genre_values'] = df['genre'].apply(lambda x: x.split(', '))\n",
    "\n",
    "# Flatten list\n",
    "\n",
    "genre_list = [item for sublist in df['genre_values'] for item in sublist]"
   ]
  },
  {
   "cell_type": "code",
   "execution_count": null,
   "id": "3bad95d5-eb6d-410d-89b1-0f94ef688e76",
   "metadata": {},
   "outputs": [],
   "source": [
    "# Convert the list into one-hot encoded columns using pd.get_dummies\n",
    "\n",
    "df_encoded = df['genre_values'].apply(pd.Series).stack().str.get_dummies().groupby(level=0).sum()"
   ]
  },
  {
   "cell_type": "code",
   "execution_count": null,
   "id": "e5582e97-c834-4dbd-a724-3167bb15d150",
   "metadata": {},
   "outputs": [],
   "source": [
    "# Concatenate the one-hot encoded columns and the original dataframe\n",
    "df = pd.concat([df, df_encoded], axis=1)\n",
    "df"
   ]
  },
  {
   "cell_type": "code",
   "execution_count": null,
   "id": "967d97e5-62b0-4bf8-ae17-99b8d63807dc",
   "metadata": {},
   "outputs": [],
   "source": [
    "# Drop 'genre' and 'genre_values' columns\n",
    "df.drop(columns=['genre','genre_values'],inplace=True)\n",
    "df"
   ]
  },
  {
   "cell_type": "code",
   "execution_count": null,
   "id": "da4f3ceb-1e82-478f-b73e-034237e7c711",
   "metadata": {},
   "outputs": [],
   "source": [
    "# Set to show all columns\n",
    "pd.set_option('display.max_columns', None)\n",
    "\n",
    "#Descriptive statistics\n",
    "df.describe()"
   ]
  },
  {
   "cell_type": "code",
   "execution_count": null,
   "id": "5ea69f36-3519-4181-a0fa-beea59a990e9",
   "metadata": {},
   "outputs": [],
   "source": [
    "df.head(5)"
   ]
  },
  {
   "cell_type": "code",
   "execution_count": null,
   "id": "f3df05a0-ff1a-4f46-9cda-dbc46cb51725",
   "metadata": {},
   "outputs": [],
   "source": [
    "# Count of Type of anime\n",
    "\n",
    "sns.countplot(data=df,x='type',hue='type')"
   ]
  },
  {
   "cell_type": "code",
   "execution_count": null,
   "id": "7ad1f90a-b523-40b6-905e-7a2a9e9a56a3",
   "metadata": {},
   "outputs": [],
   "source": [
    "# Rating distribution\n",
    "sns.displot(data=df,x='rating',hue='type', height=6, aspect=1.5)"
   ]
  },
  {
   "cell_type": "code",
   "execution_count": null,
   "id": "3a9a573e-4389-4cbf-a6df-a24726432d89",
   "metadata": {},
   "outputs": [],
   "source": [
    "# Episodes distribution\n",
    "sns.displot(data=df,x='episodes',hue='type', height=6, aspect=1.5)"
   ]
  },
  {
   "cell_type": "code",
   "execution_count": null,
   "id": "16ce185e-840f-4d6c-a3c2-2ff0a7232e15",
   "metadata": {},
   "outputs": [],
   "source": [
    "# Members distribution\n",
    "sns.displot(x=df['members'],hue=df['type'], height=6, aspect=1.5,kind='kde')"
   ]
  },
  {
   "cell_type": "code",
   "execution_count": null,
   "id": "9e56e415-9372-4b89-b4b3-6105b6cfbb35",
   "metadata": {},
   "outputs": [],
   "source": [
    "df.head(5)"
   ]
  },
  {
   "cell_type": "markdown",
   "id": "48159f08-107e-4276-ba4e-9a45aa264504",
   "metadata": {},
   "source": [
    "# **Model building**"
   ]
  },
  {
   "cell_type": "code",
   "execution_count": null,
   "id": "e0c9e6dd-0095-4212-9ec6-c945bb7be651",
   "metadata": {},
   "outputs": [],
   "source": [
    "# Standardization\n",
    "from sklearn.preprocessing import StandardScaler\n",
    "sc = StandardScaler()"
   ]
  },
  {
   "cell_type": "code",
   "execution_count": null,
   "id": "d1646547-657a-4e97-8883-5f26b2c1a1d4",
   "metadata": {},
   "outputs": [],
   "source": [
    "# Transform the 'episodes', 'rating', and 'members' columns\n",
    "df[['episodes','rating','members']] = sc.fit_transform(df[['episodes','rating','members']])"
   ]
  },
  {
   "cell_type": "code",
   "execution_count": null,
   "id": "58c0c56d-ada7-4651-ba43-a84f60fc756d",
   "metadata": {
    "scrolled": true
   },
   "outputs": [],
   "source": [
    "df[['episodes','rating','members']]"
   ]
  },
  {
   "cell_type": "code",
   "execution_count": null,
   "id": "2efcacf2-05b1-4fac-a4dd-2b9e4a245792",
   "metadata": {},
   "outputs": [],
   "source": [
    "# Create pivot\n",
    "\n",
    "pivot = pd.pivot(data=df, columns='name', values='rating')"
   ]
  },
  {
   "cell_type": "code",
   "execution_count": null,
   "id": "aba9869f-efb9-413a-a38d-82744fd1acda",
   "metadata": {
    "scrolled": true
   },
   "outputs": [],
   "source": [
    "pivot"
   ]
  },
  {
   "cell_type": "code",
   "execution_count": null,
   "id": "b907ba77-1bcb-4c3b-a006-24b61512ba7d",
   "metadata": {},
   "outputs": [],
   "source": [
    "# Replace missing NaN values with 0\n",
    "pivot.fillna(0,inplace=True)"
   ]
  },
  {
   "cell_type": "code",
   "execution_count": null,
   "id": "cd49d36d-cec7-4e97-beaa-781c93fde9ea",
   "metadata": {},
   "outputs": [],
   "source": [
    "# Calculate distances and similarities\n",
    "from sklearn.metrics import pairwise_distances"
   ]
  },
  {
   "cell_type": "code",
   "execution_count": null,
   "id": "e8483f3e-8598-447e-bb84-d37841d30316",
   "metadata": {},
   "outputs": [],
   "source": [
    "# Find Cosine distances\n",
    "pd.DataFrame(pairwise_distances(pivot,metric='cosine'))"
   ]
  },
  {
   "cell_type": "code",
   "execution_count": null,
   "id": "571983b6-383c-4b36-a8f2-265ca57e61fd",
   "metadata": {},
   "outputs": [],
   "source": [
    "# The lesser the distance between the two anime, the more they are similar\n",
    "# Calculate similarity\n",
    "sim = 1 - pairwise_distances(pivot, metric='cosine')\n",
    "pd.DataFrame(sim)"
   ]
  },
  {
   "cell_type": "code",
   "execution_count": null,
   "id": "87928e2c-629b-4ae7-abff-4211d0161911",
   "metadata": {},
   "outputs": [],
   "source": [
    "# Change diagonal values to 0\n",
    "np.fill_diagonal(sim,0)"
   ]
  },
  {
   "cell_type": "code",
   "execution_count": null,
   "id": "a6ca11c6-ce28-462a-984c-c98ae7850a68",
   "metadata": {},
   "outputs": [],
   "source": [
    "# replace the ids with the anime_ids\n",
    "similarity = pd.DataFrame(sim)\n",
    "similarity.index = df.index\n",
    "similarity.columns = df.index\n",
    "similarity"
   ]
  },
  {
   "cell_type": "code",
   "execution_count": null,
   "id": "02d207b6-73a6-412c-9e61-d23f7d43c0d6",
   "metadata": {},
   "outputs": [],
   "source": [
    "# Find out similar anime\n",
    "similarity.idxmax()"
   ]
  },
  {
   "cell_type": "code",
   "execution_count": null,
   "id": "0307a9fc-5588-4297-a8d4-b8509ce21037",
   "metadata": {},
   "outputs": [],
   "source": [
    "#CHeck the unique values\n",
    "similarity.idxmax().unique()"
   ]
  },
  {
   "cell_type": "code",
   "execution_count": null,
   "id": "c4cf30f1-9c2b-4ff4-84f7-e71f2e48b8ad",
   "metadata": {},
   "outputs": [],
   "source": [
    "# Add the similarity index values to the dataframe\n",
    "anime_similarities = df[['name','type']]\n",
    "anime_similarities['similarity'] = similarity.idxmax()\n",
    "anime_similarities"
   ]
  },
  {
   "cell_type": "code",
   "execution_count": null,
   "id": "c5fa914a-1b61-4735-8cfa-f2c06e2616a6",
   "metadata": {},
   "outputs": [],
   "source": [
    "anime_similarities.sort_values(by='similarity', ascending=False)"
   ]
  },
  {
   "cell_type": "code",
   "execution_count": null,
   "id": "150ddd95-1a3a-4e00-8e24-47c2f87dd28a",
   "metadata": {},
   "outputs": [],
   "source": [
    "def recommend_anime(anime_id, similarity_matrix, anime_df, top_n=5):\n",
    "    \"\"\"\n",
    "    Recommends similar animes based on cosine similarity.\n",
    "    \n",
    "    Parameters:\n",
    "    anime_id (int): The ID of the anime to find recommendations for.\n",
    "    similarity_matrix (pd.DataFrame): The matrix containing cosine similarity values between animes.\n",
    "    anime_df (pd.DataFrame): The original dataframe with anime details (names and IDs).\n",
    "    top_n (int): The number of similar animes to recommend (default is 5).\n",
    "    \n",
    "    Returns:\n",
    "    recommended_animes (list): A list of top_n recommended anime names and their similarity scores.\n",
    "    \"\"\"\n",
    "    \n",
    "    # Check if the anime_id exists in the similarity matrix\n",
    "    if anime_id not in similarity_matrix.index:\n",
    "        return f\"Anime ID {anime_id} not found in the dataset.\"\n",
    "    \n",
    "    # Get the similarity scores for the given anime\n",
    "    similarity_scores = similarity_matrix[anime_id]\n",
    "    \n",
    "    # Sort the animes by similarity, excluding the given anime itself (similarity score = 0)\n",
    "    similar_animes = similarity_scores.sort_values(ascending=False).head(top_n + 1)[1:]  # Exclude the anime itself\n",
    "    \n",
    "    # Retrieve the anime names from the anime_df for the similar anime IDs\n",
    "    recommended_animes = []\n",
    "    for similar_anime_id in similar_animes.index:\n",
    "        anime_name = anime_df.loc[anime_df.index == similar_anime_id, 'name'].values[0]\n",
    "        recommended_animes.append((anime_name, similar_animes[similar_anime_id]))\n",
    "    \n",
    "    return recommended_animes\n"
   ]
  },
  {
   "cell_type": "code",
   "execution_count": null,
   "id": "4b2c3793-1758-426e-935b-9329e0926fbd",
   "metadata": {},
   "outputs": [],
   "source": [
    "recommendations = recommend_anime(22399, similarity, df, top_n=5)\n",
    "\n",
    "for name, score in recommendations:\n",
    "    print(f\"Recommended Anime: {name}, Similarity Score: {score:.4f}\")"
   ]
  },
  {
   "cell_type": "code",
   "execution_count": null,
   "id": "0bf30325-1e0e-4e52-95be-42d5bc188841",
   "metadata": {},
   "outputs": [],
   "source": [
    "def get_similarity_scores(similarity_matrix, anime_ids):\n",
    "    \"\"\"\n",
    "    Retrieves the similarity scores for the anime IDs returned by idxmax.\n",
    "    \n",
    "    Parameters:\n",
    "    similarity_matrix (pd.DataFrame): The matrix containing cosine similarity values between animes.\n",
    "    anime_ids (list): A list of anime IDs returned by similarity.idxmax().unique().\n",
    "    \n",
    "    Returns:\n",
    "    similarity_scores (list of tuples): A list of tuples where each tuple contains (anime_id, max_similar_anime_id, similarity_score).\n",
    "    \"\"\"\n",
    "    similarity_scores = []\n",
    "    \n",
    "    # Loop through each anime ID and find the similarity score with its most similar anime\n",
    "    for anime_id in anime_ids:\n",
    "        # Get the most similar anime ID for the current anime_id\n",
    "        most_similar_anime_id = similarity_matrix[anime_id].idxmax()\n",
    "        \n",
    "        # Get the similarity score between the anime_id and its most similar anime\n",
    "        similarity_score = similarity_matrix.loc[anime_id, most_similar_anime_id]\n",
    "        \n",
    "        # Append the result as a tuple (anime_id, most_similar_anime_id, similarity_score)\n",
    "        similarity_scores.append((anime_id, most_similar_anime_id, similarity_score))\n",
    "    \n",
    "    return similarity_scores\n"
   ]
  },
  {
   "cell_type": "code",
   "execution_count": null,
   "id": "ac4b0970-c3db-46b3-81b2-5d13ed9ba37e",
   "metadata": {},
   "outputs": [],
   "source": [
    "similarity_scores = get_similarity_scores(similarity, similarity.idxmax().unique())\n",
    "\n",
    "for anime_id, most_similar_anime_id, score in similarity_scores:\n",
    "    print(f\"Anime ID {anime_id} is most similar to Anime ID {most_similar_anime_id} with a similarity score of {score:.4f}\")"
   ]
  },
  {
   "cell_type": "markdown",
   "id": "c8f8f7b4-5d56-4a29-be94-3a19a9b4c8b4",
   "metadata": {},
   "source": [
    "Interview Questions:\n",
    "1 - Can you explain the difference between user-based and item-based collaborative filtering?\n",
    "User-based collaborative filtering:\n",
    "a) Compares users with each other, by assuming users who have similar preferences in the past will have similar preferences in the future.\n",
    "b) Recommeds new items that similar users have liked.\n",
    "c) Useful in situations where users have diverse preferences.\n",
    "d) Performance decreases with large number of users, and if users have rated very few items, then its hard to find similarities between them.\n",
    "\n",
    "Item-based collaborative filtering:\n",
    "a) Compares items instead of users.\n",
    "b) Items that are rated similarly by users are likely to be related.\n",
    "c) Better scaling with large number of users because the item space is generally smaller than the users.\n",
    "d) More stable than user-based filtering.\n",
    "d) If users haven't interacted with enough items, it becomes harder to find good items.\n",
    "\n",
    "2 - What is collaborative filtering, and how does it work?\n",
    "Collaborative filtering is a popular technique used in recommendation systems to predict user preferences by leveraging the preferences of other users. It works on the principle that if users have had similar tastes in the past, they will continue to have similar preferences in the future. Similarly, items that users rate or interact with similarly are considered related.\n",
    "How it works-\n",
    "a) User Interaction Data: Collaborative filtering starts with a user-item interaction matrix, where rows represent users and columns represent items (such as movies, products, or animes). The values in the matrix are typically ratings, but can also be implicit feedback (e.g., clicks, purchases, or views).\n",
    "b) Types of Collaborative Filtering: Collaborative filtering can be broadly categorized into two main types:User-Based Collaborative Filtering and Item-Based Collaborative Filtering\n",
    "c) Calculate the similarity of items or users using Cosine similarity or Pearson's correlation.\n",
    "d) Recommend users similar items or highly rated items using a set threshold value of similarity."
   ]
  },
  {
   "cell_type": "code",
   "execution_count": null,
   "id": "8cd3cb30-d46d-42c2-b9eb-149aeb1eca99",
   "metadata": {},
   "outputs": [],
   "source": []
  },
  {
   "cell_type": "code",
   "execution_count": null,
   "id": "757a1b2d-b9ba-4ca7-ac11-6f7b1123fdb0",
   "metadata": {},
   "outputs": [],
   "source": []
  }
 ],
 "metadata": {
  "kernelspec": {
   "display_name": "Python 3 (ipykernel)",
   "language": "python",
   "name": "python3"
  },
  "language_info": {
   "codemirror_mode": {
    "name": "ipython",
    "version": 3
   },
   "file_extension": ".py",
   "mimetype": "text/x-python",
   "name": "python",
   "nbconvert_exporter": "python",
   "pygments_lexer": "ipython3",
   "version": "3.12.7"
  }
 },
 "nbformat": 4,
 "nbformat_minor": 5
}
