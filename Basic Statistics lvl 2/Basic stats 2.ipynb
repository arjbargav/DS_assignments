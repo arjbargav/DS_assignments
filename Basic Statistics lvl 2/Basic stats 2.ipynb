{
 "cells": [
  {
   "cell_type": "code",
   "execution_count": 1,
   "id": "b14dd52c-b605-46bb-973b-bf52a9b20ea7",
   "metadata": {},
   "outputs": [],
   "source": [
    "Measure = [24.23,25.53,25.41,24.14,29.62,28.25,25.81,24.39,40.26,32.95,91.36,25.99,39.42,26.71,35.00]"
   ]
  },
  {
   "cell_type": "code",
   "execution_count": 2,
   "id": "c503f712-96f3-449c-8075-f1993b9bec7d",
   "metadata": {},
   "outputs": [],
   "source": [
    "import seaborn as sns"
   ]
  },
  {
   "cell_type": "code",
   "execution_count": 3,
   "id": "565953a4-0226-4a4e-bd01-69747d701afa",
   "metadata": {},
   "outputs": [
    {
     "data": {
      "text/plain": [
       "<Axes: >"
      ]
     },
     "execution_count": 3,
     "metadata": {},
     "output_type": "execute_result"
    },
    {
     "data": {
      "image/png": "[encoded data removed]",
      "text/plain": [
       "<Figure size 640x480 with 1 Axes>"
      ]
     },
     "metadata": {},
     "output_type": "display_data"
    }
   ],
   "source": [
    "sns.boxplot(x=Measure)"
   ]
  },
  {
   "cell_type": "code",
   "execution_count": 4,
   "id": "60301d15-7a45-4de4-879c-dd1c178e42c6",
   "metadata": {},
   "outputs": [
    {
     "data": {
      "text/plain": [
       "33.27133333333333"
      ]
     },
     "execution_count": 4,
     "metadata": {},
     "output_type": "execute_result"
    }
   ],
   "source": [
    "mean = sum(Measure)/len(Measure)\n",
    "mean"
   ]
  },
  {
   "cell_type": "code",
   "execution_count": 5,
   "id": "7d7f6f50-4f0d-44b4-9bd4-660e6df28766",
   "metadata": {},
   "outputs": [],
   "source": [
    "import statistics as stats"
   ]
  },
  {
   "cell_type": "code",
   "execution_count": 6,
   "id": "c63b8fed-25af-485b-bdfd-f307431dfe0a",
   "metadata": {},
   "outputs": [
    {
     "data": {
      "text/plain": [
       "16.945400921222028"
      ]
     },
     "execution_count": 6,
     "metadata": {},
     "output_type": "execute_result"
    }
   ],
   "source": [
    "stats.stdev(Measure)"
   ]
  },
  {
   "cell_type": "code",
   "execution_count": 7,
   "id": "544842c2-6edb-4871-9f99-9f9fba29cc8c",
   "metadata": {},
   "outputs": [
    {
     "data": {
      "text/plain": [
       "287.1466123809524"
      ]
     },
     "execution_count": 7,
     "metadata": {},
     "output_type": "execute_result"
    }
   ],
   "source": [
    "stats.stdev(Measure)*stats.stdev(Measure)\n"
   ]
  },
  {
   "cell_type": "code",
   "execution_count": 8,
   "id": "00b3f109-665f-41bb-895b-112957a6aa6a",
   "metadata": {},
   "outputs": [
    {
     "data": {
      "text/plain": [
       "287.14658116"
      ]
     },
     "execution_count": 8,
     "metadata": {},
     "output_type": "execute_result"
    }
   ],
   "source": [
    "16.9454*16.9454"
   ]
  },
  {
   "cell_type": "code",
   "execution_count": 9,
   "id": "9765f76a-d21e-452c-a24b-336bc57cb27f",
   "metadata": {},
   "outputs": [],
   "source": [
    "import scipy.stats as sc"
   ]
  },
  {
   "cell_type": "code",
   "execution_count": 10,
   "id": "283c7b33-17d4-4208-a462-b9ed9ed769e4",
   "metadata": {},
   "outputs": [
    {
     "data": {
      "text/plain": [
       "0.7340144709512995"
      ]
     },
     "execution_count": 10,
     "metadata": {},
     "output_type": "execute_result"
    }
   ],
   "source": [
    "sc.norm.cdf(50,loc=45,scale=8)"
   ]
  },
  {
   "cell_type": "code",
   "execution_count": 11,
   "id": "311aa527-f745-4868-8108-95d7a765815e",
   "metadata": {},
   "outputs": [
    {
     "data": {
      "text/plain": [
       "0.26598552904870054"
      ]
     },
     "execution_count": 11,
     "metadata": {},
     "output_type": "execute_result"
    }
   ],
   "source": [
    "1-sc.norm.cdf(50,loc=45,scale=8)"
   ]
  },
  {
   "cell_type": "code",
   "execution_count": 12,
   "id": "930623a2-43da-4556-bafb-f77bb4c1a0f6",
   "metadata": {},
   "outputs": [
    {
     "data": {
      "text/plain": [
       "36.484487890347154"
      ]
     },
     "execution_count": 12,
     "metadata": {},
     "output_type": "execute_result"
    }
   ],
   "source": [
    "sc.norm.cdf(30,loc=38,scale=6)*400"
   ]
  },
  {
   "cell_type": "code",
   "execution_count": 13,
   "id": "ba74335b-9e7d-4c30-8513-44ea7ab9cd4c",
   "metadata": {},
   "outputs": [
    {
     "data": {
      "text/plain": [
       "63.46210157258283"
      ]
     },
     "execution_count": 13,
     "metadata": {},
     "output_type": "execute_result"
    }
   ],
   "source": [
    "(1-sc.norm.cdf(44,loc=38,scale=6))*400"
   ]
  },
  {
   "cell_type": "code",
   "execution_count": 14,
   "id": "d1d851d7-c7f9-40c7-8a71-d57816bbc5b0",
   "metadata": {},
   "outputs": [
    {
     "data": {
      "text/plain": [
       "136.53789842741716"
      ]
     },
     "execution_count": 14,
     "metadata": {},
     "output_type": "execute_result"
    }
   ],
   "source": [
    "(sc.norm.cdf(44,loc=38,scale=6)-sc.norm.cdf(38,loc=38,scale=6))*400"
   ]
  },
  {
   "cell_type": "code",
   "execution_count": 15,
   "id": "50838e61-ba01-4fb8-ae78-5e43bb52b10d",
   "metadata": {},
   "outputs": [
    {
     "data": {
      "text/plain": [
       "151.516586070978"
      ]
     },
     "execution_count": 15,
     "metadata": {},
     "output_type": "execute_result"
    }
   ],
   "source": [
    "sc.norm.ppf(0.995,loc=100, scale=20)"
   ]
  },
  {
   "cell_type": "code",
   "execution_count": 16,
   "id": "f7f20031-589e-45a5-af7d-ac21b5bc1138",
   "metadata": {},
   "outputs": [
    {
     "data": {
      "text/plain": [
       "48.483413929021985"
      ]
     },
     "execution_count": 16,
     "metadata": {},
     "output_type": "execute_result"
    }
   ],
   "source": [
    "sc.norm.ppf(0.005,loc=100, scale=20)"
   ]
  },
  {
   "cell_type": "code",
   "execution_count": 17,
   "id": "c5617291-72cd-4edc-9cf1-6035f476ed51",
   "metadata": {},
   "outputs": [
    {
     "data": {
      "text/plain": [
       "(489.5951379129073, -39.59513791290733)"
      ]
     },
     "execution_count": 17,
     "metadata": {},
     "output_type": "execute_result"
    }
   ],
   "source": [
    "sc.norm.ppf(0.975,loc=5,scale=3)*45,sc.norm.ppf(0.025,loc=5,scale=3)*45"
   ]
  },
  {
   "cell_type": "code",
   "execution_count": 18,
   "id": "ca919ce6-d606-46a3-8ef9-2c9a099db3e7",
   "metadata": {},
   "outputs": [
    {
     "data": {
      "text/plain": [
       "(667.7935172172097, -37.79351721720981)"
      ]
     },
     "execution_count": 18,
     "metadata": {},
     "output_type": "execute_result"
    }
   ],
   "source": [
    "sc.norm.ppf(0.975,loc=7,scale=4)*45,sc.norm.ppf(0.025,loc=7,scale=4)*45"
   ]
  },
  {
   "cell_type": "code",
   "execution_count": 19,
   "id": "599c6e0d-d347-4a0d-80b8-1aaff828f341",
   "metadata": {},
   "outputs": [
    {
     "data": {
      "text/plain": [
       "881.9837930430244"
      ]
     },
     "execution_count": 19,
     "metadata": {},
     "output_type": "execute_result"
    }
   ],
   "source": [
    "sc.norm.ppf(0.975,loc=12,scale=5)*45 - sc.norm.ppf(0.025,loc=12,scale=5)*45"
   ]
  },
  {
   "cell_type": "code",
   "execution_count": 20,
   "id": "e62fd9fd-6d66-41ee-a74d-e004d1da3cb4",
   "metadata": {},
   "outputs": [
    {
     "data": {
      "text/plain": [
       "169.90793393591858"
      ]
     },
     "execution_count": 20,
     "metadata": {},
     "output_type": "execute_result"
    }
   ],
   "source": [
    "sc.norm.ppf(0.05,loc=12,scale=5)*45"
   ]
  },
  {
   "cell_type": "code",
   "execution_count": 21,
   "id": "78dfbf2c-3fb2-47cd-bc2b-68683420a506",
   "metadata": {},
   "outputs": [
    {
     "data": {
      "text/plain": [
       "True"
      ]
     },
     "execution_count": 21,
     "metadata": {},
     "output_type": "execute_result"
    }
   ],
   "source": [
    "sc.norm.cdf(0,loc=5,scale=3) > sc.norm.cdf(0,loc=7,scale=4)"
   ]
  },
  {
   "cell_type": "code",
   "execution_count": 22,
   "id": "bfacc1f2-6a4e-4313-b27b-c856eb739fe1",
   "metadata": {},
   "outputs": [
    {
     "data": {
      "text/plain": [
       "0.040059156863817086"
      ]
     },
     "execution_count": 22,
     "metadata": {},
     "output_type": "execute_result"
    }
   ],
   "source": [
    "sc.norm.cdf(0,loc=7,scale=4)"
   ]
  },
  {
   "cell_type": "code",
   "execution_count": 23,
   "id": "633a3c84-458d-44d5-bd0f-71bb15e28872",
   "metadata": {},
   "outputs": [],
   "source": [
    "revenue = [-2000,-1000,0,1000,2000,3000]\n",
    "px = [0.1,0.1,0.2,0.2,0.3,0.1]"
   ]
  },
  {
   "cell_type": "code",
   "execution_count": 24,
   "id": "3a64affc-7048-474b-bc22-086aa62e8244",
   "metadata": {},
   "outputs": [
    {
     "data": {
      "text/plain": [
       "1870.8286933869706"
      ]
     },
     "execution_count": 24,
     "metadata": {},
     "output_type": "execute_result"
    }
   ],
   "source": [
    "import statistics\n",
    "statistics.stdev(revenue)"
   ]
  },
  {
   "cell_type": "code",
   "execution_count": 25,
   "id": "efd03677-3c4b-4cf9-afb7-666aa2c1b722",
   "metadata": {},
   "outputs": [
    {
     "data": {
      "text/plain": [
       "40.03929779676599"
      ]
     },
     "execution_count": 25,
     "metadata": {},
     "output_type": "execute_result"
    }
   ],
   "source": [
    "mean = 45\n",
    "stdev = 8\n",
    "#1-sc.norm.cdf(60,loc=mean,scale=stdev)\n",
    "sc.norm.ppf(0.2676,loc=mean,scale=stdev)"
   ]
  },
  {
   "cell_type": "markdown",
   "id": "95453182-38e3-49c4-8bb1-bf32e4081ba6",
   "metadata": {},
   "source": [
    "# **Set 3**"
   ]
  },
  {
   "cell_type": "markdown",
   "id": "ee3e4068-7cbd-4bdd-a93d-26cbe9baa4c8",
   "metadata": {},
   "source": [
    "### Q5"
   ]
  },
  {
   "attachments": {
    "ff333b83-7891-49ad-a42a-924279f29343.png": {
     "image/png": "[encoded data removed]"
    }
   },
   "cell_type": "markdown",
   "id": "4beb0a4f-cbf6-4991-8bb9-d646de9e2176",
   "metadata": {},
   "source": [
    "![image.png](attachment:ff333b83-7891-49ad-a42a-924279f29343.png)"
   ]
  },
  {
   "cell_type": "markdown",
   "id": "9db26037-2d47-4cc1-8098-e2a5d0b4594f",
   "metadata": {},
   "source": [
    "#### Null hypothesis(H0): p = 0.05 (Mozilla has 5% market share)\n",
    "#### Alternate hypothesis(Ha): p < 0.05 (Mozilla has less than 5% share)"
   ]
  },
  {
   "cell_type": "code",
   "execution_count": 37,
   "id": "ec3e1a48-e8f1-40c9-acf6-e584b14dce87",
   "metadata": {},
   "outputs": [],
   "source": [
    "# Use hypothesis testing\n",
    "\n",
    "n = 2000\n",
    "p_hat = 0.046\n",
    "p = 0.05"
   ]
  },
  {
   "cell_type": "code",
   "execution_count": 30,
   "id": "5a0157df-ecb0-4f12-b4bc-398a6db6388d",
   "metadata": {},
   "outputs": [],
   "source": [
    "import numpy as np"
   ]
  },
  {
   "cell_type": "code",
   "execution_count": 38,
   "id": "443ca119-982e-45f9-98a3-889cd57e016d",
   "metadata": {},
   "outputs": [
    {
     "data": {
      "text/plain": [
       "0.004873397172404482"
      ]
     },
     "execution_count": 38,
     "metadata": {},
     "output_type": "execute_result"
    }
   ],
   "source": [
    "std_error = np.sqrt((p*(1-p))/n)\n",
    "std_error"
   ]
  },
  {
   "cell_type": "code",
   "execution_count": 39,
   "id": "0bf07602-6bd1-4421-827c-b5d577f61737",
   "metadata": {},
   "outputs": [
    {
     "data": {
      "text/plain": [
       "-0.820782681668124"
      ]
     },
     "execution_count": 39,
     "metadata": {},
     "output_type": "execute_result"
    }
   ],
   "source": [
    "z = (p_hat - p) / std_error\n",
    "z"
   ]
  },
  {
   "cell_type": "code",
   "execution_count": 40,
   "id": "4a339e4e-dee9-438d-84b5-d2af921b6ab6",
   "metadata": {},
   "outputs": [
    {
     "data": {
      "text/plain": [
       "-1.6448536269514729"
      ]
     },
     "execution_count": 40,
     "metadata": {},
     "output_type": "execute_result"
    }
   ],
   "source": [
    "critical_value = sc.norm.ppf(0.05)\n",
    "critical_value"
   ]
  },
  {
   "cell_type": "code",
   "execution_count": 41,
   "id": "a46bde5e-e0a2-49e0-b2d0-618baaa9ab08",
   "metadata": {},
   "outputs": [
    {
     "data": {
      "text/plain": [
       "(-0.820782681668124, -1.6448536269514729)"
      ]
     },
     "execution_count": 41,
     "metadata": {},
     "output_type": "execute_result"
    }
   ],
   "source": [
    "z, critical_value"
   ]
  },
  {
   "cell_type": "markdown",
   "id": "ae6c6506-6082-4194-8ef1-14feb04faa86",
   "metadata": {},
   "source": [
    "#### **As the calculated z-score > critical z-score at 5%, we fail to reject the Null hypothesis**"
   ]
  },
  {
   "cell_type": "code",
   "execution_count": 49,
   "id": "b374a56a-e2da-46dc-83e0-01fc6ee0c0e2",
   "metadata": {},
   "outputs": [
    {
     "data": {
      "text/plain": [
       "0.4502617751698871"
      ]
     },
     "execution_count": 49,
     "metadata": {},
     "output_type": "execute_result"
    }
   ],
   "source": [
    "sc.norm.cdf(45,loc=50,scale=40)"
   ]
  },
  {
   "cell_type": "code",
   "execution_count": null,
   "id": "e7ddef6e-1780-4ab4-a182-f8577579de08",
   "metadata": {},
   "outputs": [],
   "source": []
  }
 ],
 "metadata": {
  "kernelspec": {
   "display_name": "Python 3 (ipykernel)",
   "language": "python",
   "name": "python3"
  },
  "language_info": {
   "codemirror_mode": {
    "name": "ipython",
    "version": 3
   },
   "file_extension": ".py",
   "mimetype": "text/x-python",
   "name": "python",
   "nbconvert_exporter": "python",
   "pygments_lexer": "ipython3",
   "version": "3.11.0"
  }
 },
 "nbformat": 4,
 "nbformat_minor": 5
}
